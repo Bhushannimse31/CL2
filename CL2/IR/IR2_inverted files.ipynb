{
 "cells": [
  {
   "cell_type": "code",
   "execution_count": 8,
   "id": "289e2094",
   "metadata": {},
   "outputs": [],
   "source": [
    "import re \n",
    "from collections import defaultdict"
   ]
  },
  {
   "cell_type": "code",
   "execution_count": 15,
   "id": "9ab5595d",
   "metadata": {},
   "outputs": [],
   "source": [
    "documents = {\n",
    "    1:\"This is the first document . It contains some text . \",\n",
    "    2:\" The second document is longer . It also contains some text .\",\n",
    "    3:\"This is the third document . It is different from first two .\",\n",
    "}"
   ]
  },
  {
   "cell_type": "code",
   "execution_count": 16,
   "id": "6e5f6a59",
   "metadata": {},
   "outputs": [],
   "source": [
    "def preprocess_document(doc): \n",
    "    \n",
    "    tokens = re.findall(r'\\w+', doc.lower()) \n",
    "    \n",
    "    stop_words = set([\"is\", \"the\", \"it\", \"and\", \"some\"]) \n",
    "    tokens = [token for token in tokens if token not in stop_words] \n",
    "    return tokens "
   ]
  },
  {
   "cell_type": "code",
   "execution_count": 21,
   "id": "317dd18d",
   "metadata": {},
   "outputs": [],
   "source": [
    "inverted_index = defaultdict(list)\n",
    "\n",
    "for doc_id,doc_text in documents.items():\n",
    "    tokens = preprocess_document(doc_text)\n",
    "    for token in tokens :\n",
    "        inverted_index[token].append(doc_id)"
   ]
  },
  {
   "cell_type": "code",
   "execution_count": 22,
   "id": "d0a3a6c1",
   "metadata": {},
   "outputs": [],
   "source": [
    "def retrieve_documents(query):\n",
    "    query_tokens = preprocess_document(query)\n",
    "    result = set()\n",
    "    for token in query_tokens:\n",
    "        if token in inverted_index:\n",
    "            result.update(inverted_index[token])\n",
    "    return list(result)"
   ]
  },
  {
   "cell_type": "code",
   "execution_count": 23,
   "id": "3f036463",
   "metadata": {},
   "outputs": [],
   "source": [
    "query = \"document contains text\"\n",
    "matching_documents = retrieve_documents(query)"
   ]
  },
  {
   "cell_type": "code",
   "execution_count": 25,
   "id": "ef0ad06c",
   "metadata": {},
   "outputs": [
    {
     "name": "stdout",
     "output_type": "stream",
     "text": [
      "Matching documents for query 'document contains text' : \n",
      "Document 1:This is the first document . It contains some text . \n",
      "Document 2: The second document is longer . It also contains some text .\n",
      "Document 3:This is the third document . It is different from first two .\n"
     ]
    }
   ],
   "source": [
    "if matching_documents : \n",
    "    print(f\"Matching documents for query '{query}' : \")\n",
    "    for doc_id in matching_documents :\n",
    "        print(f\"Document {doc_id}:{documents[doc_id]}\")\n",
    "else :\n",
    "    print(\"No matching documents found .\")"
   ]
  },
  {
   "cell_type": "code",
   "execution_count": null,
   "id": "4bded2ab",
   "metadata": {},
   "outputs": [],
   "source": []
  },
  {
   "cell_type": "code",
   "execution_count": null,
   "id": "192e3c58",
   "metadata": {},
   "outputs": [],
   "source": []
  }
 ],
 "metadata": {
  "kernelspec": {
   "display_name": "Python 3 (ipykernel)",
   "language": "python",
   "name": "python3"
  },
  "language_info": {
   "codemirror_mode": {
    "name": "ipython",
    "version": 3
   },
   "file_extension": ".py",
   "mimetype": "text/x-python",
   "name": "python",
   "nbconvert_exporter": "python",
   "pygments_lexer": "ipython3",
   "version": "3.11.4"
  }
 },
 "nbformat": 4,
 "nbformat_minor": 5
}
