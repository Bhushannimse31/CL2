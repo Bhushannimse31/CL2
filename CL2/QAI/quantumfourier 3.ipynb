{
 "cells": [
  {
   "cell_type": "code",
   "execution_count": 1,
   "id": "7f833a16",
   "metadata": {},
   "outputs": [],
   "source": [
    "import numpy as np\n",
    "from qiskit import QuantumRegister, ClassicalRegister\n",
    "from qiskit import QuantumCircuit,transpile\n",
    "from qiskit_aer import AerSimulator"
   ]
  },
  {
   "cell_type": "code",
   "execution_count": 2,
   "id": "cb2ab81e",
   "metadata": {},
   "outputs": [],
   "source": [
    "from qiskit.circuit.library import QFT\n"
   ]
  },
  {
   "cell_type": "code",
   "execution_count": 3,
   "id": "e43ba21f",
   "metadata": {},
   "outputs": [],
   "source": [
    "simulator = AerSimulator()"
   ]
  },
  {
   "cell_type": "code",
   "execution_count": 4,
   "id": "93b52dd3",
   "metadata": {},
   "outputs": [],
   "source": [
    "q = QuantumRegister(5,'q')\n",
    "c = ClassicalRegister(5,'c')\n",
    "circuit = QuantumCircuit(q,c)"
   ]
  },
  {
   "cell_type": "code",
   "execution_count": 5,
   "id": "61e30016",
   "metadata": {},
   "outputs": [],
   "source": [
    "circuit = QuantumCircuit(q, c)"
   ]
  },
  {
   "cell_type": "code",
   "execution_count": 6,
   "id": "f5335465",
   "metadata": {},
   "outputs": [
    {
     "data": {
      "text/plain": [
       "<qiskit.circuit.instructionset.InstructionSet at 0x19ab64b5b40>"
      ]
     },
     "execution_count": 6,
     "metadata": {},
     "output_type": "execute_result"
    }
   ],
   "source": [
    "circuit.h(q)"
   ]
  },
  {
   "cell_type": "code",
   "execution_count": 7,
   "id": "96de59b4",
   "metadata": {},
   "outputs": [
    {
     "data": {
      "text/plain": [
       "<qiskit.circuit.instructionset.InstructionSet at 0x19ab64b5b10>"
      ]
     },
     "execution_count": 7,
     "metadata": {},
     "output_type": "execute_result"
    }
   ],
   "source": [
    "circuit.x(q[4])\n",
    "circuit.x(q[2])\n",
    "circuit.x(q[0])"
   ]
  },
  {
   "cell_type": "code",
   "execution_count": 8,
   "id": "83bda7bf",
   "metadata": {},
   "outputs": [
    {
     "data": {
      "text/plain": [
       "<qiskit.circuit.instructionset.InstructionSet at 0x19a8437ab90>"
      ]
     },
     "execution_count": 8,
     "metadata": {},
     "output_type": "execute_result"
    }
   ],
   "source": [
    "qft_circuit = QFT(num_qubits=5, approximation_degree=0, do_swaps=True, inverse=False, insert_barriers=False, name=\"qft\")\n",
    "circuit.append(qft_circuit, q)"
   ]
  },
  {
   "cell_type": "code",
   "execution_count": 10,
   "id": "a7e6a9d5",
   "metadata": {},
   "outputs": [
    {
     "data": {
      "text/html": [
       "<pre style=\"word-wrap: normal;white-space: pre;background: #fff0;line-height: 1.1;font-family: &quot;Courier New&quot;,Courier,monospace\">     ┌───┐┌───┐┌──────┐┌──────┐┌─┐            ┌──────┐┌─┐            \n",
       "q_0: ┤ H ├┤ X ├┤0     ├┤0     ├┤M├────────────┤0     ├┤M├────────────\n",
       "     ├───┤└───┘│      ││      │└╥┘┌─┐         │      │└╥┘┌─┐         \n",
       "q_1: ┤ H ├─────┤1     ├┤1     ├─╫─┤M├─────────┤1     ├─╫─┤M├─────────\n",
       "     ├───┤┌───┐│      ││      │ ║ └╥┘┌─┐      │      │ ║ └╥┘┌─┐      \n",
       "q_2: ┤ H ├┤ X ├┤2 qft ├┤2 qft ├─╫──╫─┤M├──────┤2 qft ├─╫──╫─┤M├──────\n",
       "     ├───┤└───┘│      ││      │ ║  ║ └╥┘┌─┐   │      │ ║  ║ └╥┘┌─┐   \n",
       "q_3: ┤ H ├─────┤3     ├┤3     ├─╫──╫──╫─┤M├───┤3     ├─╫──╫──╫─┤M├───\n",
       "     ├───┤┌───┐│      ││      │ ║  ║  ║ └╥┘┌─┐│      │ ║  ║  ║ └╥┘┌─┐\n",
       "q_4: ┤ H ├┤ X ├┤4     ├┤4     ├─╫──╫──╫──╫─┤M├┤4     ├─╫──╫──╫──╫─┤M├\n",
       "     └───┘└───┘└──────┘└──────┘ ║  ║  ║  ║ └╥┘└──────┘ ║  ║  ║  ║ └╥┘\n",
       "c: 5/═══════════════════════════╩══╩══╩══╩══╩══════════╩══╩══╩══╩══╩═\n",
       "                                0  1  2  3  4          0  1  2  3  4 </pre>"
      ],
      "text/plain": [
       "     ┌───┐┌───┐┌──────┐┌──────┐┌─┐            ┌──────┐┌─┐            \n",
       "q_0: ┤ H ├┤ X ├┤0     ├┤0     ├┤M├────────────┤0     ├┤M├────────────\n",
       "     ├───┤└───┘│      ││      │└╥┘┌─┐         │      │└╥┘┌─┐         \n",
       "q_1: ┤ H ├─────┤1     ├┤1     ├─╫─┤M├─────────┤1     ├─╫─┤M├─────────\n",
       "     ├───┤┌───┐│      ││      │ ║ └╥┘┌─┐      │      │ ║ └╥┘┌─┐      \n",
       "q_2: ┤ H ├┤ X ├┤2 qft ├┤2 qft ├─╫──╫─┤M├──────┤2 qft ├─╫──╫─┤M├──────\n",
       "     ├───┤└───┘│      ││      │ ║  ║ └╥┘┌─┐   │      │ ║  ║ └╥┘┌─┐   \n",
       "q_3: ┤ H ├─────┤3     ├┤3     ├─╫──╫──╫─┤M├───┤3     ├─╫──╫──╫─┤M├───\n",
       "     ├───┤┌───┐│      ││      │ ║  ║  ║ └╥┘┌─┐│      │ ║  ║  ║ └╥┘┌─┐\n",
       "q_4: ┤ H ├┤ X ├┤4     ├┤4     ├─╫──╫──╫──╫─┤M├┤4     ├─╫──╫──╫──╫─┤M├\n",
       "     └───┘└───┘└──────┘└──────┘ ║  ║  ║  ║ └╥┘└──────┘ ║  ║  ║  ║ └╥┘\n",
       "c: 5/═══════════════════════════╩══╩══╩══╩══╩══════════╩══╩══╩══╩══╩═\n",
       "                                0  1  2  3  4          0  1  2  3  4 "
      ]
     },
     "execution_count": 10,
     "metadata": {},
     "output_type": "execute_result"
    }
   ],
   "source": [
    "circuit = circuit.compose(qft_circuit)\n",
    "circuit.measure(q,c)\n",
    "circuit.draw()"
   ]
  },
  {
   "cell_type": "code",
   "execution_count": 11,
   "id": "1cbc6e40",
   "metadata": {},
   "outputs": [],
   "source": [
    "transpiled_circuit = transpile(circuit, simulator)"
   ]
  },
  {
   "cell_type": "code",
   "execution_count": 12,
   "id": "c660541a",
   "metadata": {},
   "outputs": [],
   "source": [
    "job = simulator.run(transpiled_circuit,shots=1000)"
   ]
  },
  {
   "cell_type": "code",
   "execution_count": 13,
   "id": "6ad22e20",
   "metadata": {},
   "outputs": [
    {
     "name": "stdout",
     "output_type": "stream",
     "text": [
      "Job is running...\n",
      "Final job status: JobStatus.DONE\n"
     ]
    }
   ],
   "source": [
    "print(\"Job is running...\")\n",
    "print(f\"Final job status: {job.status()}\")"
   ]
  },
  {
   "cell_type": "code",
   "execution_count": 14,
   "id": "0362cb16",
   "metadata": {},
   "outputs": [
    {
     "name": "stdout",
     "output_type": "stream",
     "text": [
      "\n",
      " QFT Output\n",
      "-------------\n",
      "{'01001': 40, '10110': 37, '00100': 24, '01101': 42, '00011': 29, '11010': 38, '11001': 28, '01110': 35, '10011': 23, '10111': 29, '11111': 29, '10000': 34, '00110': 30, '00101': 35, '01111': 29, '11000': 23, '01010': 27, '00000': 30, '01100': 32, '01000': 36, '11100': 25, '10101': 32, '00001': 37, '00111': 33, '11110': 30, '00010': 39, '10001': 24, '10010': 31, '10100': 35, '11101': 34, '11011': 27, '01011': 23}\n"
     ]
    }
   ],
   "source": [
    "job_result = job.result()\n",
    "counts = job_result.get_counts()\n",
    "print(\"\\n QFT Output\")\n",
    "print(\"-------------\")\n",
    "print(counts)"
   ]
  },
  {
   "cell_type": "code",
   "execution_count": null,
   "id": "23668315",
   "metadata": {},
   "outputs": [],
   "source": []
  }
 ],
 "metadata": {
  "kernelspec": {
   "display_name": "Python 3 (ipykernel)",
   "language": "python",
   "name": "python3"
  },
  "language_info": {
   "codemirror_mode": {
    "name": "ipython",
    "version": 3
   },
   "file_extension": ".py",
   "mimetype": "text/x-python",
   "name": "python",
   "nbconvert_exporter": "python",
   "pygments_lexer": "ipython3",
   "version": "3.11.4"
  }
 },
 "nbformat": 4,
 "nbformat_minor": 5
}
